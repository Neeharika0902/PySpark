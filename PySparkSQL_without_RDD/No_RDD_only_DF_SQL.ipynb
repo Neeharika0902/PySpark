{
 "cells": [
  {
   "cell_type": "code",
   "execution_count": 37,
   "metadata": {},
   "outputs": [],
   "source": [
    "from pyspark.sql import SparkSession\n",
    "from pyspark.sql import Row"
   ]
  },
  {
   "cell_type": "code",
   "execution_count": 38,
   "metadata": {},
   "outputs": [],
   "source": [
    "# first of all creating Spark Session\n",
    "sparkSession = SparkSession.builder.appName(\"WithoutRDD_Demo\").getOrCreate()"
   ]
  },
  {
   "cell_type": "code",
   "execution_count": 39,
   "metadata": {},
   "outputs": [],
   "source": [
    "# now we are resding directly from the CSV file without creating RDDs.\n",
    "people = sparkSession.read.option(\"header\",\"True\").option(\"inferSchema\",\"True\").csv(\"fakefriends-header.csv\")"
   ]
  },
  {
   "cell_type": "code",
   "execution_count": 40,
   "metadata": {},
   "outputs": [
    {
     "name": "stdout",
     "output_type": "stream",
     "text": [
      "Structure of Schema: \n",
      "root\n",
      " |-- userID: integer (nullable = true)\n",
      " |-- name: string (nullable = true)\n",
      " |-- age: integer (nullable = true)\n",
      " |-- friends: integer (nullable = true)\n",
      "\n"
     ]
    }
   ],
   "source": [
    "# printing Schema\n",
    "print(\"Structure of Schema: \")\n",
    "people.printSchema()"
   ]
  },
  {
   "cell_type": "code",
   "execution_count": 41,
   "metadata": {},
   "outputs": [
    {
     "name": "stdout",
     "output_type": "stream",
     "text": [
      "Value of Name column: \n",
      "+--------+\n",
      "|    name|\n",
      "+--------+\n",
      "|    Will|\n",
      "|Jean-Luc|\n",
      "|    Hugh|\n",
      "|  Deanna|\n",
      "|   Quark|\n",
      "|  Weyoun|\n",
      "|  Gowron|\n",
      "|    Will|\n",
      "|  Jadzia|\n",
      "|    Hugh|\n",
      "|     Odo|\n",
      "|     Ben|\n",
      "|   Keiko|\n",
      "|Jean-Luc|\n",
      "|    Hugh|\n",
      "|     Rom|\n",
      "|  Weyoun|\n",
      "|     Odo|\n",
      "|Jean-Luc|\n",
      "|  Geordi|\n",
      "+--------+\n",
      "only showing top 20 rows\n",
      "\n"
     ]
    }
   ],
   "source": [
    "# printing Particular Column val;ues\n",
    "print(\"Value of Name column: \")\n",
    "people.select(\"name\").show()"
   ]
  },
  {
   "cell_type": "code",
   "execution_count": 42,
   "metadata": {},
   "outputs": [
    {
     "name": "stdout",
     "output_type": "stream",
     "text": [
      "Data of the people whoes age is less than 21 : \n",
      "+------+-------+---+-------+\n",
      "|userID|   name|age|friends|\n",
      "+------+-------+---+-------+\n",
      "|    21|  Miles| 19|    268|\n",
      "|    48|    Nog| 20|      1|\n",
      "|    52|Beverly| 19|    269|\n",
      "|    54|  Brunt| 19|      5|\n",
      "|    60| Geordi| 20|    100|\n",
      "|    73|  Brunt| 20|    384|\n",
      "|   106|Beverly| 18|    499|\n",
      "|   115|  Dukat| 18|    397|\n",
      "|   133|  Quark| 19|    265|\n",
      "|   136|   Will| 19|    335|\n",
      "|   225|   Elim| 19|    106|\n",
      "|   304|   Will| 19|    404|\n",
      "|   327| Julian| 20|     63|\n",
      "|   341|   Data| 18|    326|\n",
      "|   349| Kasidy| 20|    277|\n",
      "|   366|  Keiko| 19|    119|\n",
      "|   373|  Quark| 19|    272|\n",
      "|   377|Beverly| 18|    418|\n",
      "|   404| Kasidy| 18|     24|\n",
      "|   409|    Nog| 19|    267|\n",
      "+------+-------+---+-------+\n",
      "only showing top 20 rows\n",
      "\n"
     ]
    }
   ],
   "source": [
    "# Filtering data as per requirement\n",
    "print(\"Data of the people whoes age is less than 21 : \")\n",
    "people.filter(\"age<21\").show()\n"
   ]
  },
  {
   "cell_type": "code",
   "execution_count": 43,
   "metadata": {},
   "outputs": [
    {
     "name": "stdout",
     "output_type": "stream",
     "text": [
      "Only Name of the people whoes age is less than 21 : \n",
      "+-------+\n",
      "|   name|\n",
      "+-------+\n",
      "|  Miles|\n",
      "|    Nog|\n",
      "|Beverly|\n",
      "|  Brunt|\n",
      "| Geordi|\n",
      "|  Brunt|\n",
      "|Beverly|\n",
      "|  Dukat|\n",
      "|  Quark|\n",
      "|   Will|\n",
      "|   Elim|\n",
      "|   Will|\n",
      "| Julian|\n",
      "|   Data|\n",
      "| Kasidy|\n",
      "|  Keiko|\n",
      "|  Quark|\n",
      "|Beverly|\n",
      "| Kasidy|\n",
      "|    Nog|\n",
      "+-------+\n",
      "only showing top 20 rows\n",
      "\n"
     ]
    }
   ],
   "source": [
    "# Filtering particular column as per requirement\n",
    "print(\"Only Name of the people whoes age is less than 21 : \")\n",
    "people.filter(\"age<21\").select(\"name\").show()"
   ]
  },
  {
   "cell_type": "code",
   "execution_count": 44,
   "metadata": {},
   "outputs": [
    {
     "name": "stdout",
     "output_type": "stream",
     "text": [
      "Only Name of the people whoes age is less than 21 : \n",
      "+---+-----+\n",
      "|age|count|\n",
      "+---+-----+\n",
      "| 31|    8|\n",
      "| 65|    5|\n",
      "| 53|    7|\n",
      "| 34|    6|\n",
      "| 28|   10|\n",
      "| 26|   17|\n",
      "| 27|    8|\n",
      "| 44|   12|\n",
      "| 22|    7|\n",
      "| 47|    9|\n",
      "| 52|   11|\n",
      "| 40|   17|\n",
      "| 20|    5|\n",
      "| 57|   12|\n",
      "| 54|   13|\n",
      "| 48|   10|\n",
      "| 19|   11|\n",
      "| 64|   12|\n",
      "| 41|    9|\n",
      "| 43|    7|\n",
      "+---+-----+\n",
      "only showing top 20 rows\n",
      "\n"
     ]
    }
   ],
   "source": [
    "# Group by Age\n",
    "print(\"Only Name of the people whoes age is less than 21 : \")\n",
    "people.groupBy(\"age\").count().show()"
   ]
  },
  {
   "cell_type": "code",
   "execution_count": 45,
   "metadata": {},
   "outputs": [
    {
     "name": "stdout",
     "output_type": "stream",
     "text": [
      "+--------+---+----------+\n",
      "|    name|age|(age + 10)|\n",
      "+--------+---+----------+\n",
      "|    Will| 33|        43|\n",
      "|Jean-Luc| 26|        36|\n",
      "|    Hugh| 55|        65|\n",
      "|  Deanna| 40|        50|\n",
      "|   Quark| 68|        78|\n",
      "|  Weyoun| 59|        69|\n",
      "|  Gowron| 37|        47|\n",
      "|    Will| 54|        64|\n",
      "|  Jadzia| 38|        48|\n",
      "|    Hugh| 27|        37|\n",
      "|     Odo| 53|        63|\n",
      "|     Ben| 57|        67|\n",
      "|   Keiko| 54|        64|\n",
      "|Jean-Luc| 56|        66|\n",
      "|    Hugh| 43|        53|\n",
      "|     Rom| 36|        46|\n",
      "|  Weyoun| 22|        32|\n",
      "|     Odo| 35|        45|\n",
      "|Jean-Luc| 45|        55|\n",
      "|  Geordi| 60|        70|\n",
      "+--------+---+----------+\n",
      "only showing top 20 rows\n",
      "\n"
     ]
    }
   ],
   "source": [
    "# Manipulating Age by +10\n",
    "people.select(people.name, people.age , people.age+10).show()"
   ]
  },
  {
   "cell_type": "code",
   "execution_count": 46,
   "metadata": {},
   "outputs": [],
   "source": [
    "sparkSession.stop()"
   ]
  },
  {
   "cell_type": "code",
   "execution_count": null,
   "metadata": {},
   "outputs": [],
   "source": []
  }
 ],
 "metadata": {
  "kernelspec": {
   "display_name": "Python 3",
   "language": "python",
   "name": "python3"
  },
  "language_info": {
   "codemirror_mode": {
    "name": "ipython",
    "version": 3
   },
   "file_extension": ".py",
   "mimetype": "text/x-python",
   "name": "python",
   "nbconvert_exporter": "python",
   "pygments_lexer": "ipython3",
   "version": "3.12.2"
  }
 },
 "nbformat": 4,
 "nbformat_minor": 2
}
