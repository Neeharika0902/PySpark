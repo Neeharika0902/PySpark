{
 "cells": [
  {
   "cell_type": "code",
   "execution_count": 83,
   "metadata": {},
   "outputs": [],
   "source": [
    "from pyspark.sql import SparkSession"
   ]
  },
  {
   "cell_type": "code",
   "execution_count": 84,
   "metadata": {},
   "outputs": [],
   "source": [
    "spark = SparkSession.builder.appName('firstClass').getOrCreate()"
   ]
  },
  {
   "cell_type": "code",
   "execution_count": 85,
   "metadata": {},
   "outputs": [
    {
     "data": {
      "text/html": [
       "\n",
       "            <div>\n",
       "                <p><b>SparkSession - in-memory</b></p>\n",
       "                \n",
       "        <div>\n",
       "            <p><b>SparkContext</b></p>\n",
       "\n",
       "            <p><a href=\"http://host.docker.internal:4040\">Spark UI</a></p>\n",
       "\n",
       "            <dl>\n",
       "              <dt>Version</dt>\n",
       "                <dd><code>v3.5.0</code></dd>\n",
       "              <dt>Master</dt>\n",
       "                <dd><code>local[*]</code></dd>\n",
       "              <dt>AppName</dt>\n",
       "                <dd><code>firstClass</code></dd>\n",
       "            </dl>\n",
       "        </div>\n",
       "        \n",
       "            </div>\n",
       "        "
      ],
      "text/plain": [
       "<pyspark.sql.session.SparkSession at 0x2124e7eb2f0>"
      ]
     },
     "execution_count": 85,
     "metadata": {},
     "output_type": "execute_result"
    }
   ],
   "source": [
    "# you can check you spark session information\n",
    "spark"
   ]
  },
  {
   "cell_type": "code",
   "execution_count": 86,
   "metadata": {},
   "outputs": [],
   "source": [
    "# read CSV using pySpark\n",
    "# option('header','True') : will consider first row as column names\n",
    "df_pyspark = spark.read.option('header','True').csv('Reddit_post.csv')"
   ]
  },
  {
   "cell_type": "code",
   "execution_count": 87,
   "metadata": {},
   "outputs": [
    {
     "name": "stdout",
     "output_type": "stream",
     "text": [
      "+---+---------+--------------------+--------------------+-------+--------+-----+\n",
      "|Num|     date|               title|              author|upvotes|downvote|karma|\n",
      "+---+---------+--------------------+--------------------+-------+--------+-----+\n",
      "|  0|2/23/2024|First time option...|          statusblue|      3|       1| 2311|\n",
      "|  1|2/23/2024|The weekend Nvidi...| Maleficent-Oil-2848|     10|       3|  827|\n",
      "|  2|2/23/2024|NASDAQ: ALVO - FD...|             1904___|      3|       2|  112|\n",
      "|  3|2/23/2024|I thought this ki...|         psiphonblog|     21|       4|   94|\n",
      "|  4|2/23/2024|  I burnt my tendies|   Fullspinalpackage|     44|       5|   61|\n",
      "|  5|2/23/2024|       MARA earnings|           N_FLATION|     14|       3|  382|\n",
      "|  6|2/23/2024|A lone developer ...|          Iky_Greenz|    123|      17| 6346|\n",
      "|  7|2/23/2024|My All Time Robin...|    Savings_Lake8255|    588|      31|  271|\n",
      "|  8|2/23/2024|  Unsatisfied (221%)|          schbloimps|     37|      12| 1829|\n",
      "|  9|2/23/2024|Unfortunately I c...|   chewbaccashotlast|     48|      15|28355|\n",
      "| 10|2/23/2024|         $RIVN Puts…|        Broken_Wedge|      6|       4|   16|\n",
      "| 11|2/23/2024|I like this stock...|   Worried_Creme8917|     30|       7| 3478|\n",
      "| 12|2/23/2024|        Am I cooked?|          harrybuice|     14|       5|  282|\n",
      "| 13|2/23/2024|$125 --> $20k YTD...|        M_from_Vegas|    106|      13|   86|\n",
      "| 14|2/23/2024|Didn’t pull out $...|              Nuck_7|      0|       0|11527|\n",
      "| 15|2/23/2024|  The duality of WSB|         WhoEvenSaid|     87|       6|   82|\n",
      "| 16|2/23/2024|Distressed REIT #...|           Dampish10|      0|       0| 3234|\n",
      "| 17|2/23/2024|            guh SMCI|   Justtakemymoney69|     39|       3|  706|\n",
      "| 18|2/23/2024|Negative Nvidia B...|             MineETH|     60|       7| 4367|\n",
      "| 19|2/23/2024|        Wish me luck|AncientWyvern_Shield|      6|       3| 7901|\n",
      "+---+---------+--------------------+--------------------+-------+--------+-----+\n",
      "only showing top 20 rows\n",
      "\n"
     ]
    }
   ],
   "source": [
    "## to display data\n",
    "df_pyspark.show()"
   ]
  },
  {
   "cell_type": "code",
   "execution_count": 88,
   "metadata": {},
   "outputs": [
    {
     "name": "stdout",
     "output_type": "stream",
     "text": [
      "root\n",
      " |-- Num: string (nullable = true)\n",
      " |-- date: string (nullable = true)\n",
      " |-- title: string (nullable = true)\n",
      " |-- author: string (nullable = true)\n",
      " |-- upvotes: string (nullable = true)\n",
      " |-- downvote: string (nullable = true)\n",
      " |-- karma: string (nullable = true)\n",
      "\n"
     ]
    }
   ],
   "source": [
    "## To print the data type of csv file\n",
    "# by deafault it will consider String\n",
    "df_pyspark.printSchema()"
   ]
  },
  {
   "cell_type": "code",
   "execution_count": 89,
   "metadata": {},
   "outputs": [
    {
     "name": "stdout",
     "output_type": "stream",
     "text": [
      "root\n",
      " |-- Num: integer (nullable = true)\n",
      " |-- date: string (nullable = true)\n",
      " |-- title: string (nullable = true)\n",
      " |-- author: string (nullable = true)\n",
      " |-- upvotes: integer (nullable = true)\n",
      " |-- downvote: integer (nullable = true)\n",
      " |-- karma: integer (nullable = true)\n",
      "\n"
     ]
    }
   ],
   "source": [
    "## inferSchema=True : will assigned proper datatype to the columns\n",
    "df_pyspark_with_Datatype = spark.read.option('header','True').csv('Reddit_post.csv',inferSchema=True)\n",
    "df_pyspark_with_Datatype.printSchema()"
   ]
  },
  {
   "cell_type": "code",
   "execution_count": 90,
   "metadata": {},
   "outputs": [
    {
     "data": {
      "text/plain": [
       "[Row(Num=0, date='2/23/2024', title='First time options player ', author='statusblue', upvotes=3, downvote=1, karma=2311),\n",
       " Row(Num=1, date='2/23/2024', title='The weekend Nvidia play', author='Maleficent-Oil-2848', upvotes=10, downvote=3, karma=827),\n",
       " Row(Num=2, date='2/23/2024', title='NASDAQ: ALVO - FDA Approved  SIMLANDI drug ', author='1904___', upvotes=3, downvote=2, karma=112),\n",
       " Row(Num=3, date='2/23/2024', title='I thought this kind of gains only happened to other people ($PANW)', author='psiphonblog', upvotes=21, downvote=4, karma=94)]"
      ]
     },
     "execution_count": 90,
     "metadata": {},
     "output_type": "execute_result"
    }
   ],
   "source": [
    "# to print selected number of first rows \n",
    "df_pyspark_with_Datatype.head(4)"
   ]
  },
  {
   "cell_type": "code",
   "execution_count": 91,
   "metadata": {},
   "outputs": [
    {
     "name": "stdout",
     "output_type": "stream",
     "text": [
      "+---------+\n",
      "|     date|\n",
      "+---------+\n",
      "|2/23/2024|\n",
      "|2/23/2024|\n",
      "|2/23/2024|\n",
      "|2/23/2024|\n",
      "|2/23/2024|\n",
      "|2/23/2024|\n",
      "|2/23/2024|\n",
      "|2/23/2024|\n",
      "|2/23/2024|\n",
      "|2/23/2024|\n",
      "|2/23/2024|\n",
      "|2/23/2024|\n",
      "|2/23/2024|\n",
      "|2/23/2024|\n",
      "|2/23/2024|\n",
      "|2/23/2024|\n",
      "|2/23/2024|\n",
      "|2/23/2024|\n",
      "|2/23/2024|\n",
      "|2/23/2024|\n",
      "+---------+\n",
      "only showing top 20 rows\n",
      "\n"
     ]
    }
   ],
   "source": [
    "# to print selected single column\n",
    "df_pyspark_with_Datatype.select('date').show()\n"
   ]
  },
  {
   "cell_type": "code",
   "execution_count": 92,
   "metadata": {},
   "outputs": [
    {
     "name": "stdout",
     "output_type": "stream",
     "text": [
      "+---------+-----+\n",
      "|     date|karma|\n",
      "+---------+-----+\n",
      "|2/23/2024| 2311|\n",
      "|2/23/2024|  827|\n",
      "|2/23/2024|  112|\n",
      "|2/23/2024|   94|\n",
      "|2/23/2024|   61|\n",
      "|2/23/2024|  382|\n",
      "|2/23/2024| 6346|\n",
      "|2/23/2024|  271|\n",
      "|2/23/2024| 1829|\n",
      "|2/23/2024|28355|\n",
      "|2/23/2024|   16|\n",
      "|2/23/2024| 3478|\n",
      "|2/23/2024|  282|\n",
      "|2/23/2024|   86|\n",
      "|2/23/2024|11527|\n",
      "|2/23/2024|   82|\n",
      "|2/23/2024| 3234|\n",
      "|2/23/2024|  706|\n",
      "|2/23/2024| 4367|\n",
      "|2/23/2024| 7901|\n",
      "+---------+-----+\n",
      "only showing top 20 rows\n",
      "\n"
     ]
    }
   ],
   "source": [
    "# to print selected multiple columns\n",
    "df_pyspark_with_Datatype.select(['date','karma']).show()"
   ]
  },
  {
   "cell_type": "code",
   "execution_count": 93,
   "metadata": {},
   "outputs": [
    {
     "data": {
      "text/plain": [
       "[('Num', 'int'),\n",
       " ('date', 'string'),\n",
       " ('title', 'string'),\n",
       " ('author', 'string'),\n",
       " ('upvotes', 'int'),\n",
       " ('downvote', 'int'),\n",
       " ('karma', 'int')]"
      ]
     },
     "execution_count": 93,
     "metadata": {},
     "output_type": "execute_result"
    }
   ],
   "source": [
    "# to check the data type \n",
    "df_pyspark_with_Datatype.dtypes"
   ]
  },
  {
   "cell_type": "code",
   "execution_count": 94,
   "metadata": {},
   "outputs": [
    {
     "name": "stdout",
     "output_type": "stream",
     "text": [
      "+-------+------------------+---------+--------------------+-------------------+-----------------+------------------+------------------+\n",
      "|summary|               Num|     date|               title|             author|          upvotes|          downvote|             karma|\n",
      "+-------+------------------+---------+--------------------+-------------------+-----------------+------------------+------------------+\n",
      "|  count|                51|       51|                  51|                 51|               51|                51|                51|\n",
      "|   mean|              25.0|     NULL|                NULL|               NULL|96.33333333333333|10.549019607843137|23587.450980392157|\n",
      "| stddev|14.866068747318506|     NULL|                NULL|               NULL|230.6507027231148| 18.29023097228703| 136864.3162387207|\n",
      "|    min|                 0|2/23/2024|$125 --> $20k YTD...|            1904___|                0|                 0|                10|\n",
      "|    max|                50|2/23/2024|🚨 🐻 Bear Alert:...|watifurdadpulledout|             1456|                93|            979312|\n",
      "+-------+------------------+---------+--------------------+-------------------+-----------------+------------------+------------------+\n",
      "\n"
     ]
    }
   ],
   "source": [
    "#descriptive Statistics\n",
    "df_pyspark_with_Datatype.describe().show()"
   ]
  },
  {
   "cell_type": "code",
   "execution_count": 95,
   "metadata": {},
   "outputs": [
    {
     "name": "stdout",
     "output_type": "stream",
     "text": [
      "+---+---------+--------------------+--------------------+-------+--------+-----+-------------------------+\n",
      "|Num|     date|               title|              author|upvotes|downvote|karma|Num after Increment of 2 |\n",
      "+---+---------+--------------------+--------------------+-------+--------+-----+-------------------------+\n",
      "|  0|2/23/2024|First time option...|          statusblue|      3|       1| 2311|                        2|\n",
      "|  1|2/23/2024|The weekend Nvidi...| Maleficent-Oil-2848|     10|       3|  827|                        3|\n",
      "|  2|2/23/2024|NASDAQ: ALVO - FD...|             1904___|      3|       2|  112|                        4|\n",
      "|  3|2/23/2024|I thought this ki...|         psiphonblog|     21|       4|   94|                        5|\n",
      "|  4|2/23/2024|  I burnt my tendies|   Fullspinalpackage|     44|       5|   61|                        6|\n",
      "|  5|2/23/2024|       MARA earnings|           N_FLATION|     14|       3|  382|                        7|\n",
      "|  6|2/23/2024|A lone developer ...|          Iky_Greenz|    123|      17| 6346|                        8|\n",
      "|  7|2/23/2024|My All Time Robin...|    Savings_Lake8255|    588|      31|  271|                        9|\n",
      "|  8|2/23/2024|  Unsatisfied (221%)|          schbloimps|     37|      12| 1829|                       10|\n",
      "|  9|2/23/2024|Unfortunately I c...|   chewbaccashotlast|     48|      15|28355|                       11|\n",
      "| 10|2/23/2024|         $RIVN Puts…|        Broken_Wedge|      6|       4|   16|                       12|\n",
      "| 11|2/23/2024|I like this stock...|   Worried_Creme8917|     30|       7| 3478|                       13|\n",
      "| 12|2/23/2024|        Am I cooked?|          harrybuice|     14|       5|  282|                       14|\n",
      "| 13|2/23/2024|$125 --> $20k YTD...|        M_from_Vegas|    106|      13|   86|                       15|\n",
      "| 14|2/23/2024|Didn’t pull out $...|              Nuck_7|      0|       0|11527|                       16|\n",
      "| 15|2/23/2024|  The duality of WSB|         WhoEvenSaid|     87|       6|   82|                       17|\n",
      "| 16|2/23/2024|Distressed REIT #...|           Dampish10|      0|       0| 3234|                       18|\n",
      "| 17|2/23/2024|            guh SMCI|   Justtakemymoney69|     39|       3|  706|                       19|\n",
      "| 18|2/23/2024|Negative Nvidia B...|             MineETH|     60|       7| 4367|                       20|\n",
      "| 19|2/23/2024|        Wish me luck|AncientWyvern_Shield|      6|       3| 7901|                       21|\n",
      "+---+---------+--------------------+--------------------+-------+--------+-----+-------------------------+\n",
      "only showing top 20 rows\n",
      "\n"
     ]
    }
   ],
   "source": [
    "## adding column in data frames\n",
    "# for ex. Num+2 i did for testing\n",
    "df_pyspark_with_Datatype.withColumn('Num after Increment of 2 ', df_pyspark_with_Datatype['Num']+2).show()"
   ]
  },
  {
   "cell_type": "code",
   "execution_count": 96,
   "metadata": {},
   "outputs": [
    {
     "name": "stdout",
     "output_type": "stream",
     "text": [
      "+---+---------+--------------------+-------+--------+-----+\n",
      "|Num|     date|              author|upvotes|downvote|karma|\n",
      "+---+---------+--------------------+-------+--------+-----+\n",
      "|  0|2/23/2024|          statusblue|      3|       1| 2311|\n",
      "|  1|2/23/2024| Maleficent-Oil-2848|     10|       3|  827|\n",
      "|  2|2/23/2024|             1904___|      3|       2|  112|\n",
      "|  3|2/23/2024|         psiphonblog|     21|       4|   94|\n",
      "|  4|2/23/2024|   Fullspinalpackage|     44|       5|   61|\n",
      "|  5|2/23/2024|           N_FLATION|     14|       3|  382|\n",
      "|  6|2/23/2024|          Iky_Greenz|    123|      17| 6346|\n",
      "|  7|2/23/2024|    Savings_Lake8255|    588|      31|  271|\n",
      "|  8|2/23/2024|          schbloimps|     37|      12| 1829|\n",
      "|  9|2/23/2024|   chewbaccashotlast|     48|      15|28355|\n",
      "| 10|2/23/2024|        Broken_Wedge|      6|       4|   16|\n",
      "| 11|2/23/2024|   Worried_Creme8917|     30|       7| 3478|\n",
      "| 12|2/23/2024|          harrybuice|     14|       5|  282|\n",
      "| 13|2/23/2024|        M_from_Vegas|    106|      13|   86|\n",
      "| 14|2/23/2024|              Nuck_7|      0|       0|11527|\n",
      "| 15|2/23/2024|         WhoEvenSaid|     87|       6|   82|\n",
      "| 16|2/23/2024|           Dampish10|      0|       0| 3234|\n",
      "| 17|2/23/2024|   Justtakemymoney69|     39|       3|  706|\n",
      "| 18|2/23/2024|             MineETH|     60|       7| 4367|\n",
      "| 19|2/23/2024|AncientWyvern_Shield|      6|       3| 7901|\n",
      "+---+---------+--------------------+-------+--------+-----+\n",
      "only showing top 20 rows\n",
      "\n"
     ]
    }
   ],
   "source": [
    "##  to drop the column \n",
    "df_pyspark_with_Datatype.drop('title').show()"
   ]
  },
  {
   "cell_type": "code",
   "execution_count": 97,
   "metadata": {},
   "outputs": [
    {
     "name": "stdout",
     "output_type": "stream",
     "text": [
      "+---+---------+--------------------+--------------------+-------+--------+-----+\n",
      "|Num|     date|               title|              Writer|upvotes|downvote|karma|\n",
      "+---+---------+--------------------+--------------------+-------+--------+-----+\n",
      "|  0|2/23/2024|First time option...|          statusblue|      3|       1| 2311|\n",
      "|  1|2/23/2024|The weekend Nvidi...| Maleficent-Oil-2848|     10|       3|  827|\n",
      "|  2|2/23/2024|NASDAQ: ALVO - FD...|             1904___|      3|       2|  112|\n",
      "|  3|2/23/2024|I thought this ki...|         psiphonblog|     21|       4|   94|\n",
      "|  4|2/23/2024|  I burnt my tendies|   Fullspinalpackage|     44|       5|   61|\n",
      "|  5|2/23/2024|       MARA earnings|           N_FLATION|     14|       3|  382|\n",
      "|  6|2/23/2024|A lone developer ...|          Iky_Greenz|    123|      17| 6346|\n",
      "|  7|2/23/2024|My All Time Robin...|    Savings_Lake8255|    588|      31|  271|\n",
      "|  8|2/23/2024|  Unsatisfied (221%)|          schbloimps|     37|      12| 1829|\n",
      "|  9|2/23/2024|Unfortunately I c...|   chewbaccashotlast|     48|      15|28355|\n",
      "| 10|2/23/2024|         $RIVN Puts…|        Broken_Wedge|      6|       4|   16|\n",
      "| 11|2/23/2024|I like this stock...|   Worried_Creme8917|     30|       7| 3478|\n",
      "| 12|2/23/2024|        Am I cooked?|          harrybuice|     14|       5|  282|\n",
      "| 13|2/23/2024|$125 --> $20k YTD...|        M_from_Vegas|    106|      13|   86|\n",
      "| 14|2/23/2024|Didn’t pull out $...|              Nuck_7|      0|       0|11527|\n",
      "| 15|2/23/2024|  The duality of WSB|         WhoEvenSaid|     87|       6|   82|\n",
      "| 16|2/23/2024|Distressed REIT #...|           Dampish10|      0|       0| 3234|\n",
      "| 17|2/23/2024|            guh SMCI|   Justtakemymoney69|     39|       3|  706|\n",
      "| 18|2/23/2024|Negative Nvidia B...|             MineETH|     60|       7| 4367|\n",
      "| 19|2/23/2024|        Wish me luck|AncientWyvern_Shield|      6|       3| 7901|\n",
      "+---+---------+--------------------+--------------------+-------+--------+-----+\n",
      "only showing top 20 rows\n",
      "\n"
     ]
    }
   ],
   "source": [
    "##  to Rename the column \n",
    "df_pyspark_with_Datatype.withColumnRenamed('author','Writer').show()"
   ]
  },
  {
   "cell_type": "code",
   "execution_count": 98,
   "metadata": {},
   "outputs": [],
   "source": [
    "## ---------------------- Handling Missing Values ------------------------------------- ##\n",
    "# Droping Rows\n",
    "# Various Parameters in dropping functionalities\n",
    "# Handling Missing Values by Mean"
   ]
  },
  {
   "cell_type": "code",
   "execution_count": 99,
   "metadata": {},
   "outputs": [
    {
     "name": "stdout",
     "output_type": "stream",
     "text": [
      "+---+---------+--------------------+--------------------+-------+--------+-----+\n",
      "|Num|     date|               title|              author|upvotes|downvote|karma|\n",
      "+---+---------+--------------------+--------------------+-------+--------+-----+\n",
      "|  0|2/23/2024|First time option...|          statusblue|      3|       1| 2311|\n",
      "|  1|2/23/2024|The weekend Nvidi...| Maleficent-Oil-2848|     10|       3|  827|\n",
      "|  2|2/23/2024|NASDAQ: ALVO - FD...|             1904___|      3|       2|  112|\n",
      "|  3|2/23/2024|I thought this ki...|         psiphonblog|     21|       4|   94|\n",
      "|  4|2/23/2024|  I burnt my tendies|   Fullspinalpackage|     44|       5|   61|\n",
      "|  5|2/23/2024|       MARA earnings|           N_FLATION|     14|       3|  382|\n",
      "|  6|2/23/2024|A lone developer ...|          Iky_Greenz|    123|      17| 6346|\n",
      "|  7|2/23/2024|My All Time Robin...|    Savings_Lake8255|    588|      31|  271|\n",
      "|  8|2/23/2024|  Unsatisfied (221%)|          schbloimps|     37|      12| 1829|\n",
      "|  9|2/23/2024|Unfortunately I c...|   chewbaccashotlast|     48|      15|28355|\n",
      "| 10|2/23/2024|         $RIVN Puts…|        Broken_Wedge|      6|       4|   16|\n",
      "| 11|2/23/2024|I like this stock...|   Worried_Creme8917|     30|       7| 3478|\n",
      "| 12|2/23/2024|        Am I cooked?|          harrybuice|     14|       5|  282|\n",
      "| 13|2/23/2024|$125 --> $20k YTD...|        M_from_Vegas|    106|      13|   86|\n",
      "| 14|2/23/2024|Didn’t pull out $...|              Nuck_7|      0|       0|11527|\n",
      "| 15|2/23/2024|  The duality of WSB|         WhoEvenSaid|     87|       6|   82|\n",
      "| 16|2/23/2024|Distressed REIT #...|           Dampish10|      0|       0| 3234|\n",
      "| 17|2/23/2024|            guh SMCI|   Justtakemymoney69|     39|       3|  706|\n",
      "| 18|2/23/2024|Negative Nvidia B...|             MineETH|     60|       7| 4367|\n",
      "| 19|2/23/2024|        Wish me luck|AncientWyvern_Shield|      6|       3| 7901|\n",
      "+---+---------+--------------------+--------------------+-------+--------+-----+\n",
      "only showing top 20 rows\n",
      "\n"
     ]
    }
   ],
   "source": [
    "df_pyspark_with_Datatype.na.drop().show()\n",
    "# ---------- drop(how='all') || if the entire row value is null then only it will drop the row. (just like AND operator)\n",
    "# df_pyspark_with_Datatype.na.drop(how='all').show()\n",
    "\n",
    "# ---------- drop(how='any') || if the at least one value of row is null then it will drop the row. (just like OR operator)\n",
    "# df_pyspark_with_Datatype.na.drop(how='any').show()\n",
    "\n",
    "# ---------- drop(how='any',thresh=2) || it will drop the row if row contains more than 2 null values. you can change thresh value as per requirements. (Null > thresh)\n",
    "# df_pyspark_with_Datatype.na.drop(how='any',thresh=2).show()\n",
    "\n",
    "# ---------- Subset | if declared column has null value then it will drop the row\n",
    "# df_pyspark_with_Datatype.na.drop(how='any',thresh=2, subset=['column_Name']).show()"
   ]
  },
  {
   "cell_type": "code",
   "execution_count": 100,
   "metadata": {},
   "outputs": [
    {
     "name": "stdout",
     "output_type": "stream",
     "text": [
      "+---+---------+--------------------+--------------------+-------+--------+-----+\n",
      "|Num|     date|               title|              author|upvotes|downvote|karma|\n",
      "+---+---------+--------------------+--------------------+-------+--------+-----+\n",
      "|  0|2/23/2024|First time option...|          statusblue|      3|       1| 2311|\n",
      "|  1|2/23/2024|The weekend Nvidi...| Maleficent-Oil-2848|     10|       3|  827|\n",
      "|  2|2/23/2024|NASDAQ: ALVO - FD...|             1904___|      3|       2|  112|\n",
      "|  3|2/23/2024|I thought this ki...|         psiphonblog|     21|       4|   94|\n",
      "|  4|2/23/2024|  I burnt my tendies|   Fullspinalpackage|     44|       5|   61|\n",
      "|  5|2/23/2024|       MARA earnings|           N_FLATION|     14|       3|  382|\n",
      "|  6|2/23/2024|A lone developer ...|          Iky_Greenz|    123|      17| 6346|\n",
      "|  7|2/23/2024|My All Time Robin...|    Savings_Lake8255|    588|      31|  271|\n",
      "|  8|2/23/2024|  Unsatisfied (221%)|          schbloimps|     37|      12| 1829|\n",
      "|  9|2/23/2024|Unfortunately I c...|   chewbaccashotlast|     48|      15|28355|\n",
      "| 10|2/23/2024|         $RIVN Puts…|        Broken_Wedge|      6|       4|   16|\n",
      "| 11|2/23/2024|I like this stock...|   Worried_Creme8917|     30|       7| 3478|\n",
      "| 12|2/23/2024|        Am I cooked?|          harrybuice|     14|       5|  282|\n",
      "| 13|2/23/2024|$125 --> $20k YTD...|        M_from_Vegas|    106|      13|   86|\n",
      "| 14|2/23/2024|Didn’t pull out $...|              Nuck_7|      0|       0|11527|\n",
      "| 15|2/23/2024|  The duality of WSB|         WhoEvenSaid|     87|       6|   82|\n",
      "| 16|2/23/2024|Distressed REIT #...|           Dampish10|      0|       0| 3234|\n",
      "| 17|2/23/2024|            guh SMCI|   Justtakemymoney69|     39|       3|  706|\n",
      "| 18|2/23/2024|Negative Nvidia B...|             MineETH|     60|       7| 4367|\n",
      "| 19|2/23/2024|        Wish me luck|AncientWyvern_Shield|      6|       3| 7901|\n",
      "+---+---------+--------------------+--------------------+-------+--------+-----+\n",
      "only showing top 20 rows\n",
      "\n"
     ]
    }
   ],
   "source": [
    "## --------- Filling the missing values ----------------\n",
    "df_pyspark_with_Datatype.na.fill('Missing_value').show()\n",
    "\n",
    "## --------- Filling the misssing value for particular single column -----------------\n",
    "# df_pyspark_with_Datatype.na.fill('Missing_value','title').show()\n",
    "\n",
    "## --------- Filling the misssing value for particular multiple column -----------------\n",
    "# df_pyspark_with_Datatype.na.fill('Missing_value',['title','date']).show()"
   ]
  },
  {
   "cell_type": "code",
   "execution_count": null,
   "metadata": {},
   "outputs": [],
   "source": []
  }
 ],
 "metadata": {
  "kernelspec": {
   "display_name": "Python 3",
   "language": "python",
   "name": "python3"
  },
  "language_info": {
   "codemirror_mode": {
    "name": "ipython",
    "version": 3
   },
   "file_extension": ".py",
   "mimetype": "text/x-python",
   "name": "python",
   "nbconvert_exporter": "python",
   "pygments_lexer": "ipython3",
   "version": "3.12.2"
  }
 },
 "nbformat": 4,
 "nbformat_minor": 2
}
