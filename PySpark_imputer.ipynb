{
 "cells": [
  {
   "cell_type": "code",
   "execution_count": 26,
   "metadata": {},
   "outputs": [],
   "source": [
    "from pyspark.sql import SparkSession\n",
    "spark = SparkSession.builder.appName('imputerDemo').getOrCreate()"
   ]
  },
  {
   "cell_type": "code",
   "execution_count": 27,
   "metadata": {},
   "outputs": [],
   "source": [
    "df = spark.read.csv('Reddit_post.csv',header=True,inferSchema=True)"
   ]
  },
  {
   "cell_type": "code",
   "execution_count": 28,
   "metadata": {},
   "outputs": [
    {
     "name": "stdout",
     "output_type": "stream",
     "text": [
      "root\n",
      " |-- Num: integer (nullable = true)\n",
      " |-- date: string (nullable = true)\n",
      " |-- title: string (nullable = true)\n",
      " |-- author: string (nullable = true)\n",
      " |-- upvotes: integer (nullable = true)\n",
      " |-- downvote: integer (nullable = true)\n",
      " |-- karma: integer (nullable = true)\n",
      "\n"
     ]
    }
   ],
   "source": [
    "df.printSchema()"
   ]
  },
  {
   "cell_type": "code",
   "execution_count": 31,
   "metadata": {},
   "outputs": [],
   "source": [
    "from pyspark.ml.feature import Imputer\n",
    "\n",
    "imputer = Imputer(\n",
    "    inputCols=['Num','upvotes','downvote','karma'],\n",
    "    outputCols=[\"{}_imported\".format(c) for c in ['Num','upvotes','downvote','karma']]\n",
    ").setStrategy(\"mean\")"
   ]
  },
  {
   "cell_type": "code",
   "execution_count": 32,
   "metadata": {},
   "outputs": [
    {
     "name": "stdout",
     "output_type": "stream",
     "text": [
      "+---+---------+--------------------+-------------------+-------+--------+-----+------------+----------------+-----------------+--------------+\n",
      "|Num|     date|               title|             author|upvotes|downvote|karma|Num_imported|upvotes_imported|downvote_imported|karma_imported|\n",
      "+---+---------+--------------------+-------------------+-------+--------+-----+------------+----------------+-----------------+--------------+\n",
      "|  0|2/23/2024|First time option...|         statusblue|      3|       1| 2311|           0|               3|                1|          2311|\n",
      "|  1|2/23/2024|The weekend Nvidi...|Maleficent-Oil-2848|     10|       3|  827|           1|              10|                3|           827|\n",
      "|  2|2/23/2024|NASDAQ: ALVO - FD...|            1904___|      3|       2|  112|           2|               3|                2|           112|\n",
      "|  3|2/23/2024|I thought this ki...|        psiphonblog|     21|       4|   94|           3|              21|                4|            94|\n",
      "|  4|2/23/2024|  I burnt my tendies|  Fullspinalpackage|     44|       5|   61|           4|              44|                5|            61|\n",
      "|  5|2/23/2024|       MARA earnings|          N_FLATION|     14|       3|  382|           5|              14|                3|           382|\n",
      "|  6|2/23/2024|A lone developer ...|         Iky_Greenz|    123|      17| 6346|           6|             123|               17|          6346|\n",
      "|  7|2/23/2024|My All Time Robin...|   Savings_Lake8255|    588|      31|  271|           7|             588|               31|           271|\n",
      "|  8|2/23/2024|  Unsatisfied (221%)|         schbloimps|     37|      12| 1829|           8|              37|               12|          1829|\n",
      "|  9|2/23/2024|Unfortunately I c...|  chewbaccashotlast|     48|      15|28355|           9|              48|               15|         28355|\n",
      "| 10|2/23/2024|         $RIVN Puts…|       Broken_Wedge|      6|       4|   16|          10|               6|                4|            16|\n",
      "| 11|2/23/2024|I like this stock...|  Worried_Creme8917|     30|       7| 3478|          11|              30|                7|          3478|\n",
      "| 12|2/23/2024|        Am I cooked?|         harrybuice|     14|       5| NULL|          12|              14|                5|         24492|\n",
      "| 13|2/23/2024|$125 --> $20k YTD...|       M_from_Vegas|    106|      13|   86|          13|             106|               13|            86|\n",
      "| 14|     NULL|Didn’t pull out $...|             Nuck_7|      0|       0|11527|          14|               0|                0|         11527|\n",
      "| 15|2/23/2024|  The duality of WSB|        WhoEvenSaid|     87|       6|   82|          15|              87|                6|            82|\n",
      "| 16|2/23/2024|Distressed REIT #...|          Dampish10|      0|       0| 3234|          16|               0|                0|          3234|\n",
      "| 17|2/23/2024|            guh SMCI|  Justtakemymoney69|     39|       3|  706|          17|              39|                3|           706|\n",
      "| 18|2/23/2024|Negative Nvidia B...|            MineETH|     60|       7| 4367|          18|              60|                7|          4367|\n",
      "| 19|2/23/2024|        Wish me luck|               NULL|      6|       3| 7901|          19|               6|                3|          7901|\n",
      "+---+---------+--------------------+-------------------+-------+--------+-----+------------+----------------+-----------------+--------------+\n",
      "only showing top 20 rows\n",
      "\n"
     ]
    }
   ],
   "source": [
    "imputer.fit(df).transform(df).show()"
   ]
  }
 ],
 "metadata": {
  "kernelspec": {
   "display_name": "Python 3",
   "language": "python",
   "name": "python3"
  },
  "language_info": {
   "codemirror_mode": {
    "name": "ipython",
    "version": 3
   },
   "file_extension": ".py",
   "mimetype": "text/x-python",
   "name": "python",
   "nbconvert_exporter": "python",
   "pygments_lexer": "ipython3",
   "version": "3.12.2"
  }
 },
 "nbformat": 4,
 "nbformat_minor": 2
}
