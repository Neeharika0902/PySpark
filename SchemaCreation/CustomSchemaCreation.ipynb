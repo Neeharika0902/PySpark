{
 "cells": [
  {
   "cell_type": "code",
   "execution_count": 29,
   "metadata": {},
   "outputs": [],
   "source": [
    "from pyspark.sql import SparkSession\n",
    "from pyspark.sql import functions as funct\n",
    "from pyspark.sql.types import StructType, StructField, StringType, IntegerType, FloatType"
   ]
  },
  {
   "cell_type": "code",
   "execution_count": 30,
   "metadata": {},
   "outputs": [],
   "source": [
    "sparkSession =  SparkSession.builder.appName(\"CustomSchema\").getOrCreate()"
   ]
  },
  {
   "cell_type": "code",
   "execution_count": 31,
   "metadata": {},
   "outputs": [],
   "source": [
    "# creating custome Schema as per requirement and giving them datatype and field Name\n",
    "schemaC = StructType([StructField(\"Station_ID\", StringType(), True), \\\n",
    "                     StructField(\"date\", IntegerType(), True), \\\n",
    "                     StructField(\"MeasureType\", StringType(), True), \\\n",
    "                     StructField(\"Temperature\", FloatType(), True)])"
   ]
  },
  {
   "cell_type": "code",
   "execution_count": 32,
   "metadata": {},
   "outputs": [
    {
     "name": "stdout",
     "output_type": "stream",
     "text": [
      "root\n",
      " |-- Station_ID: string (nullable = true)\n",
      " |-- date: integer (nullable = true)\n",
      " |-- MeasureType: string (nullable = true)\n",
      " |-- Temperature: float (nullable = true)\n",
      "\n"
     ]
    }
   ],
   "source": [
    "# reading CSV file as Above defined Custom Schema\n",
    "df = sparkSession.read.csv(\"1800.csv\", schema=schemaC)\n",
    "df.printSchema()\n"
   ]
  },
  {
   "cell_type": "code",
   "execution_count": 33,
   "metadata": {},
   "outputs": [],
   "source": [
    "# Filtering minimum temperature\n",
    "minTempt = df.filter(df.MeasureType == 'TMIN')"
   ]
  },
  {
   "cell_type": "code",
   "execution_count": 34,
   "metadata": {},
   "outputs": [],
   "source": [
    "# Selecting only two fields as per requirement\n",
    "stationTemps = minTempt.select(\"Station_ID\",\"Temperature\")"
   ]
  },
  {
   "cell_type": "code",
   "execution_count": 35,
   "metadata": {},
   "outputs": [
    {
     "name": "stdout",
     "output_type": "stream",
     "text": [
      "+-----------+------+\n",
      "| Station_ID|  MinT|\n",
      "+-----------+------+\n",
      "|ITE00100554|-148.0|\n",
      "|EZE00100082|-135.0|\n",
      "+-----------+------+\n",
      "\n"
     ]
    }
   ],
   "source": [
    "# finding minimum temperature for every station\n",
    "minTempStationWise = stationTemps.groupBy(\"Station_ID\").agg(funct.min(\"Temperature\").alias(\"MinT\"))\n",
    "minTempStationWise.show()"
   ]
  },
  {
   "cell_type": "code",
   "execution_count": 36,
   "metadata": {},
   "outputs": [],
   "source": [
    "minTempStationWiseF = minTempStationWise.withColumn(\"F_Temp\", funct.round(funct.round(funct.col(\"MinT\"))*0.1*(9/5)+32 , 2))\\\n",
    "        .select(\"Station_ID\",\"MinT\",\"F_Temp\").sort(\"F_Temp\")"
   ]
  },
  {
   "cell_type": "code",
   "execution_count": 37,
   "metadata": {},
   "outputs": [],
   "source": [
    "resultData = minTempStationWiseF.collect()"
   ]
  },
  {
   "cell_type": "code",
   "execution_count": 38,
   "metadata": {},
   "outputs": [
    {
     "name": "stdout",
     "output_type": "stream",
     "text": [
      "[Row(Station_ID='ITE00100554', MinT=-148.0, F_Temp=5.36), Row(Station_ID='EZE00100082', MinT=-135.0, F_Temp=7.7)]\n"
     ]
    }
   ],
   "source": [
    "print(resultData)"
   ]
  },
  {
   "cell_type": "code",
   "execution_count": 39,
   "metadata": {},
   "outputs": [],
   "source": [
    "sparkSession.stop()"
   ]
  }
 ],
 "metadata": {
  "kernelspec": {
   "display_name": "Python 3",
   "language": "python",
   "name": "python3"
  },
  "language_info": {
   "codemirror_mode": {
    "name": "ipython",
    "version": 3
   },
   "file_extension": ".py",
   "mimetype": "text/x-python",
   "name": "python",
   "nbconvert_exporter": "python",
   "pygments_lexer": "ipython3",
   "version": "3.12.2"
  }
 },
 "nbformat": 4,
 "nbformat_minor": 2
}
